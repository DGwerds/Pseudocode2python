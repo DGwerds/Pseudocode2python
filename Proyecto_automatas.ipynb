{
  "nbformat": 4,
  "nbformat_minor": 0,
  "metadata": {
    "colab": {
      "provenance": [],
      "collapsed_sections": [
        "FrDCWpoj6QHK",
        "Rl7OGj3v6PXA",
        "c-_7kjL6VhNx",
        "2r_T3fZbhxDO",
        "osW3DBQQfNSP",
        "P4ofaLd2fodO",
        "OE6HsdCWRwNV",
        "0d6hT8jyf81H",
        "PQO_0yETbZK6",
        "7js2ZuDKbvnU",
        "6oUs3xbQbwVf",
        "Ogu0TXwybwmW",
        "HCfkinxaJ15w",
        "KjWOksYmKGec",
        "--LWYf2kKqaF",
        "2od5SVqqLJSQ"
      ]
    },
    "kernelspec": {
      "name": "python3",
      "display_name": "Python 3"
    },
    "language_info": {
      "name": "python"
    }
  },
  "cells": [
    {
      "cell_type": "markdown",
      "source": [
        " **Traducción de Pseudocódigo a un Lenguaje de Programación para la enseñanza**\n",
        "\n",
        "\n",
        "---\n",
        "\n"
      ],
      "metadata": {
        "id": "DjGdZW0mKa-m"
      }
    },
    {
      "cell_type": "markdown",
      "source": [
        "\n",
        "**Estudiantes:**\n",
        "*   Santiago Andres Delgado Quiceno - 2211799\n",
        "*   Hammer Ronaldo Muñoz Hernández -2211918\n",
        "*   Andrés Felipe Jaimes Ojeda - 2211236\n",
        "\n",
        "**Grupo:** J1\n",
        "\n",
        "\n",
        "\n",
        "\n",
        "\n"
      ],
      "metadata": {
        "id": "uXBB654WKhiO"
      }
    },
    {
      "cell_type": "markdown",
      "source": [
        "\n",
        "\n",
        "> **Función:**\n",
        "\n",
        "\n",
        "\n",
        "En este proyecto tiene el objetivo de traducir la sintaxis básica  del lenguaje de **código Python** a **pseudocódigo**, además de su inverso, es de decir, **pseudocódigo** a **código Python**.\n",
        "\n",
        ">**Alcance:**\n",
        "\n",
        "Permite ayudar a asimilar con más **facilidad** y **velocidad** las ideas básicas de el lenguaje de promación Phyton.\n",
        "\n",
        ">**Información:**\n",
        "\n",
        "El notebook está clasificado de la siguiente manera:\n",
        "\n",
        "Los apartados con nombre **EJECUTAR CÓDIGO A PSEUDOCÓDIGO** y **EJECUTAR PSEUDOCÓDIGO A CÓDIGO** es la implementación de la solucón, por tanto allí podra realizar la respectiva traducción según corresponda.\n",
        "\n",
        "Por otro lado, los apartados **DEFINICIÓN FORMAL CÓDIGO A PSEUDOCÓDIGO** y **DEFINICIÓN FORMAL PSEUDOCÓDIGO A CÓDIGO** corresponde a la representación de la equivalencia de algunas de las expresiones regulares definidas en la implementación del código, donde los **autómatas finito** tiene la funcionalidad de validar el lenguaje y la **máquina de Turing** realizar la traducción."
      ],
      "metadata": {
        "id": "HHT52ITdLleN"
      }
    },
    {
      "cell_type": "code",
      "source": [
        "!mkdir files\n",
        "from IPython.display import Image, display"
      ],
      "metadata": {
        "id": "Kosfc1E9PPHr"
      },
      "execution_count": null,
      "outputs": []
    },
    {
      "cell_type": "markdown",
      "source": [
        "**!NO OLVIDE EJECUTAR LAS CELDAS PARA INICIAR!**\n",
        "\n",
        "\n",
        "---\n",
        "\n"
      ],
      "metadata": {
        "id": "IpCqqZhYSgaR"
      }
    },
    {
      "cell_type": "code",
      "source": [
        "!pip install automata-lib"
      ],
      "metadata": {
        "id": "8z7zwZDbRCZe",
        "colab": {
          "base_uri": "https://localhost:8080/"
        },
        "outputId": "606e5064-e072-4554-d31f-e34eec3abc25"
      },
      "execution_count": null,
      "outputs": [
        {
          "output_type": "stream",
          "name": "stdout",
          "text": [
            "Collecting automata-lib\n",
            "  Downloading automata_lib-8.0.0-py3-none-any.whl (59 kB)\n",
            "\u001b[2K     \u001b[90m━━━━━━━━━━━━━━━━━━━━━━━━━━━━━━━━━━━━━━━\u001b[0m \u001b[32m59.8/59.8 kB\u001b[0m \u001b[31m871.2 kB/s\u001b[0m eta \u001b[36m0:00:00\u001b[0m\n",
            "\u001b[?25hRequirement already satisfied: networkx>=2.6.2 in /usr/local/lib/python3.10/dist-packages (from automata-lib) (3.1)\n",
            "Requirement already satisfied: frozendict>=2.3.4 in /usr/local/lib/python3.10/dist-packages (from automata-lib) (2.3.8)\n",
            "Requirement already satisfied: typing-extensions>=4.5.0 in /usr/local/lib/python3.10/dist-packages (from automata-lib) (4.7.1)\n",
            "Collecting cached-method>=0.1.0 (from automata-lib)\n",
            "  Downloading cached_method-0.1.0-py3-none-any.whl (4.2 kB)\n",
            "Installing collected packages: cached-method, automata-lib\n",
            "Successfully installed automata-lib-8.0.0 cached-method-0.1.0\n"
          ]
        }
      ]
    }
  }
}
